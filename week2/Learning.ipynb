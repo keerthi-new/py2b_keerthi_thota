{
 "cells": [
  {
   "cell_type": "code",
   "execution_count": 10,
   "id": "550ae701",
   "metadata": {},
   "outputs": [
    {
     "name": "stdout",
     "output_type": "stream",
     "text": [
      "[ 1  2  3  4  5  6  7  8  9 10]\n",
      "[ 2  3  4  5  6  7  8  9 10 11]\n",
      "[ 3  6  9 12 15 18 21 24 27 30]\n",
      "[   1    8   27   64  125  216  343  512  729 1000]\n"
     ]
    }
   ],
   "source": [
    "import numpy as np\n",
    "numpy_array = np.array([1,2,3,4,5,6,7,8,9,10])\n",
    "print(numpy_array)\n",
    "print(numpy_array + 1)\n",
    "print(numpy_array * 3)\n",
    "print(numpy_array ** 3)"
   ]
  },
  {
   "cell_type": "code",
   "execution_count": 4,
   "id": "1528c3af",
   "metadata": {},
   "outputs": [
    {
     "name": "stdout",
     "output_type": "stream",
     "text": [
      "[2, 3, 4, 5, 6, 7, 8, 9, 10, 11]\n"
     ]
    }
   ],
   "source": [
    "python_list = [1, 2, 3, 4, 5, 6, 7, 8, 9,10]\n",
    "    \n",
    "for i, _ in enumerate(python_list):\n",
    "    python_list[i] += 1\n",
    "\n",
    "\n",
    "print(python_list)"
   ]
  },
  {
   "cell_type": "code",
   "execution_count": 11,
   "id": "0e0d207e",
   "metadata": {},
   "outputs": [
    {
     "name": "stdout",
     "output_type": "stream",
     "text": [
      "[ 1  2  3  4  5  6  7  8  9 10]\n"
     ]
    }
   ],
   "source": [
    "print(numpy_array)"
   ]
  },
  {
   "cell_type": "code",
   "execution_count": 12,
   "id": "2a04f5bd",
   "metadata": {},
   "outputs": [
    {
     "name": "stdout",
     "output_type": "stream",
     "text": [
      "[ 16  36  64 100 144 196 256 324 400 484]\n"
     ]
    }
   ],
   "source": [
    "numpy_array += 1\n",
    "numpy_array *= 2\n",
    "numpy_array **= 2\n",
    "print(numpy_array)"
   ]
  },
  {
   "cell_type": "code",
   "execution_count": 19,
   "id": "1f677a28",
   "metadata": {},
   "outputs": [
    {
     "name": "stdout",
     "output_type": "stream",
     "text": [
      "[1. 1. 1. 1. 1. 1. 1. 1. 1. 1.]\n"
     ]
    }
   ],
   "source": [
    "numpy_array = np.ones(10)\n",
    "print(numpy_array)"
   ]
  },
  {
   "cell_type": "code",
   "execution_count": 20,
   "id": "57965fdb",
   "metadata": {},
   "outputs": [
    {
     "name": "stdout",
     "output_type": "stream",
     "text": [
      "[0. 0. 0. 0. 0. 0. 0. 0. 0. 0.]\n"
     ]
    }
   ],
   "source": [
    "numpy_array = np.zeros(10)\n",
    "print(numpy_array)"
   ]
  },
  {
   "cell_type": "code",
   "execution_count": 21,
   "id": "2e0d630c",
   "metadata": {},
   "outputs": [
    {
     "name": "stdout",
     "output_type": "stream",
     "text": [
      "[ 0  1  2  3  4  5  6  7  8  9 10 11 12 13 14 15 16 17 18 19 20 21 22 23\n",
      " 24 25 26 27 28 29]\n"
     ]
    }
   ],
   "source": [
    "numpy_array = np.arange(30) \n",
    "print(numpy_array)"
   ]
  },
  {
   "cell_type": "code",
   "execution_count": 22,
   "id": "387b48fa",
   "metadata": {},
   "outputs": [
    {
     "name": "stdout",
     "output_type": "stream",
     "text": [
      "[False False False False False False False False False False False False\n",
      " False False False False False False False False False False False False\n",
      " False False False False False False]\n"
     ]
    }
   ],
   "source": [
    "print(numpy_array > 300)"
   ]
  },
  {
   "cell_type": "code",
   "execution_count": 23,
   "id": "256fb8f2",
   "metadata": {},
   "outputs": [
    {
     "name": "stdout",
     "output_type": "stream",
     "text": [
      "[4 5 6 7 8 9]\n"
     ]
    }
   ],
   "source": [
    "print(numpy_array[4:10])\n"
   ]
  },
  {
   "cell_type": "code",
   "execution_count": 24,
   "id": "843e06df",
   "metadata": {},
   "outputs": [
    {
     "name": "stdout",
     "output_type": "stream",
     "text": [
      "[ 5  6  7  8  9 10 11 12 13 14 15 16 17 18 19 20 21 22 23 24 25 26 27 28\n",
      " 29]\n"
     ]
    }
   ],
   "source": [
    "print(numpy_array[5:])"
   ]
  },
  {
   "cell_type": "code",
   "execution_count": 25,
   "id": "45a7aaf7",
   "metadata": {},
   "outputs": [
    {
     "name": "stdout",
     "output_type": "stream",
     "text": [
      "[0 1 2 3 4 5]\n"
     ]
    }
   ],
   "source": [
    "print(numpy_array[:])"
   ]
  },
  {
   "cell_type": "code",
   "execution_count": 26,
   "id": "29022113",
   "metadata": {},
   "outputs": [
    {
     "name": "stdout",
     "output_type": "stream",
     "text": [
      "a + b:  [11 22 33 44]\n",
      "a - b:  [ 9 18 27 36]\n",
      "a * b:  [ 10  40  90 160]\n"
     ]
    }
   ],
   "source": [
    "a = np.array([10, 20, 30, 40])\n",
    "b = np.array([1, 2, 3, 4])\n",
    "print(\"a + b: \", a+b)\n",
    "print(\"a - b: \", a-b)\n",
    "print(\"a * b: \", a*b)"
   ]
  },
  {
   "cell_type": "code",
   "execution_count": 27,
   "id": "70336369",
   "metadata": {},
   "outputs": [
    {
     "name": "stdout",
     "output_type": "stream",
     "text": [
      "[20 30 40 50]\n",
      "[20 30 40 50]\n"
     ]
    }
   ],
   "source": [
    "a = np.array([10, 20, 30, 40])\n",
    "b = np.array([10, 10, 10, 10])\n",
    "c = np.array(10)\n",
    "\n",
    "\n",
    "print(a + b)\n",
    "print(a + c)"
   ]
  },
  {
   "cell_type": "code",
   "execution_count": 28,
   "id": "3aff4403",
   "metadata": {},
   "outputs": [
    {
     "name": "stdout",
     "output_type": "stream",
     "text": [
      "[[1 2 3]\n",
      " [4 5 6]]\n"
     ]
    }
   ],
   "source": [
    "two_d_numpy_array = np.array([[1, 2, 3], [4, 5, 6]])\n",
    "print(two_d_numpy_array)"
   ]
  },
  {
   "cell_type": "code",
   "execution_count": 29,
   "id": "9cea53d9",
   "metadata": {},
   "outputs": [
    {
     "name": "stdout",
     "output_type": "stream",
     "text": [
      "[[[ 1  2  3]\n",
      "  [ 4  5  6]]\n",
      "\n",
      " [[ 7  8  9]\n",
      "  [10 11 12]]]\n"
     ]
    }
   ],
   "source": [
    "three_d_numpy_array = np.array([[[1,2,3], [4, 5, 6]],[[7, 8, 9], [10, 11, 12]]])\n",
    "print(three_d_numpy_array)"
   ]
  },
  {
   "cell_type": "code",
   "execution_count": 30,
   "id": "9829882c",
   "metadata": {},
   "outputs": [
    {
     "name": "stdout",
     "output_type": "stream",
     "text": [
      "3\n"
     ]
    }
   ],
   "source": [
    "print(three_d_numpy_array.ndim)"
   ]
  },
  {
   "cell_type": "code",
   "execution_count": 34,
   "id": "ac6b24ce",
   "metadata": {},
   "outputs": [
    {
     "name": "stdout",
     "output_type": "stream",
     "text": [
      "0\n"
     ]
    }
   ],
   "source": [
    "print(numpy_array[0])"
   ]
  },
  {
   "cell_type": "code",
   "execution_count": 39,
   "id": "846a29a0",
   "metadata": {},
   "outputs": [
    {
     "name": "stdout",
     "output_type": "stream",
     "text": [
      "5\n"
     ]
    }
   ],
   "source": [
    "print(three_d_numpy_array[0,1,1])"
   ]
  },
  {
   "cell_type": "code",
   "execution_count": 36,
   "id": "09cc0033",
   "metadata": {},
   "outputs": [
    {
     "name": "stdout",
     "output_type": "stream",
     "text": [
      "5\n"
     ]
    }
   ],
   "source": [
    "print(two_d_numpy_array[1, 1])"
   ]
  },
  {
   "cell_type": "code",
   "execution_count": 40,
   "id": "600970dd",
   "metadata": {},
   "outputs": [
    {
     "name": "stdout",
     "output_type": "stream",
     "text": [
      "[[ 1  2  3  4  5]\n",
      " [11 12 13 14 15]\n",
      " [21 22 23 24 25]]\n",
      "(3, 5)\n"
     ]
    }
   ],
   "source": [
    "shape_array = np.array([[1, 2, 3, 4, 5], [11, 12, 13, 14, 15], [21, 22, 23, 24, 25]])\n",
    "print(shape_array)\n",
    "print(shape_array.shape)"
   ]
  },
  {
   "cell_type": "code",
   "execution_count": 41,
   "id": "ad7d5a4d",
   "metadata": {},
   "outputs": [
    {
     "name": "stdout",
     "output_type": "stream",
     "text": [
      "[[ 1  2  3]\n",
      " [ 4  5 11]\n",
      " [12 13 14]\n",
      " [15 21 22]\n",
      " [23 24 25]]\n"
     ]
    }
   ],
   "source": [
    "shape_array = shape_array.reshape(5, 3)\n",
    "print(shape_array)"
   ]
  },
  {
   "cell_type": "code",
   "execution_count": 42,
   "id": "cefabd8a",
   "metadata": {},
   "outputs": [
    {
     "name": "stdout",
     "output_type": "stream",
     "text": [
      "[[ 1  2  3  4  5 11 12 13 14 15 21 22 23 24 25]]\n"
     ]
    }
   ],
   "source": [
    "shape_array = shape_array.reshape(1, 15)\n",
    "print(shape_array)"
   ]
  },
  {
   "cell_type": "code",
   "execution_count": 43,
   "id": "17ed5278",
   "metadata": {},
   "outputs": [
    {
     "name": "stdout",
     "output_type": "stream",
     "text": [
      "Original shape :  (2, 3, 4)\n",
      "\n",
      " [[[1. 1. 1. 1.]\n",
      "  [1. 1. 1. 1.]\n",
      "  [1. 1. 1. 1.]]\n",
      "\n",
      " [[1. 1. 1. 1.]\n",
      "  [1. 1. 1. 1.]\n",
      "  [1. 1. 1. 1.]]]\n",
      "\n",
      "Transposed shape :  (4, 3, 2)\n",
      "\n",
      " [[[1. 1.]\n",
      "  [1. 1.]\n",
      "  [1. 1.]]\n",
      "\n",
      " [[1. 1.]\n",
      "  [1. 1.]\n",
      "  [1. 1.]]\n",
      "\n",
      " [[1. 1.]\n",
      "  [1. 1.]\n",
      "  [1. 1.]]\n",
      "\n",
      " [[1. 1.]\n",
      "  [1. 1.]\n",
      "  [1. 1.]]]\n"
     ]
    }
   ],
   "source": [
    "transpose_array = np.ones((2, 3, 4))\n",
    "print(\"Original shape : \", transpose_array.shape)\n",
    "print(\"\\n\", transpose_array)\n",
    "\n",
    "transpose_array = np.transpose(transpose_array)\n",
    "print(\"\\nTransposed shape : \", transpose_array.shape)\n",
    "print(\"\\n\", transpose_array)"
   ]
  },
  {
   "cell_type": "code",
   "execution_count": 44,
   "id": "e5d2ad17",
   "metadata": {},
   "outputs": [
    {
     "name": "stdout",
     "output_type": "stream",
     "text": [
      "[25  5 10]\n",
      "[155  90 135 125 155]\n"
     ]
    }
   ],
   "source": [
    "axis_array = np.array([[ 75,  25,  55], [ 25,  30, 35], [40, 45, 50], [55, 5, 65], [70, 75, 10]])\n",
    "print(axis_array.min(axis = 0)) #Get the minimum value of each column.\n",
    "print(axis_array.sum(axis = 1)) #Get the sum of each row."
   ]
  },
  {
   "cell_type": "code",
   "execution_count": 45,
   "id": "cbeda016",
   "metadata": {},
   "outputs": [],
   "source": [
    "slice_array = np.array([[1, 2, 3, 4, 5, 6], [7, 8, 9, 10, 11, 12], [13, 14, 15, 16, 17, 18]])"
   ]
  },
  {
   "cell_type": "code",
   "execution_count": 47,
   "id": "76135054",
   "metadata": {},
   "outputs": [
    {
     "name": "stdout",
     "output_type": "stream",
     "text": [
      "[4 5 6]\n"
     ]
    }
   ],
   "source": [
    "print(slice_array[0,3:])"
   ]
  },
  {
   "cell_type": "code",
   "execution_count": 48,
   "id": "0c463e1c",
   "metadata": {},
   "outputs": [
    {
     "name": "stdout",
     "output_type": "stream",
     "text": [
      "[ 4 10 16]\n"
     ]
    }
   ],
   "source": [
    "print(slice_array[0:,3])"
   ]
  },
  {
   "cell_type": "code",
   "execution_count": 49,
   "id": "12583ec5",
   "metadata": {},
   "outputs": [
    {
     "name": "stdout",
     "output_type": "stream",
     "text": [
      "[[1 2 3]\n",
      " [7 8 9]]\n"
     ]
    }
   ],
   "source": [
    "print(slice_array[0:2,0:3])"
   ]
  },
  {
   "cell_type": "code",
   "execution_count": 50,
   "id": "4bb7175f",
   "metadata": {},
   "outputs": [
    {
     "name": "stdout",
     "output_type": "stream",
     "text": [
      "[[  1   2   3   4   5   6]\n",
      " [  7   8   9  10  11  12]\n",
      " [100 200 300  16  17  18]]\n"
     ]
    }
   ],
   "source": [
    "replace = np.array([100, 200, 300])\n",
    "\n",
    "slice_array[2,:3] = replace\n",
    "print(slice_array)"
   ]
  },
  {
   "cell_type": "code",
   "execution_count": 51,
   "id": "8c502b45",
   "metadata": {},
   "outputs": [
    {
     "name": "stdout",
     "output_type": "stream",
     "text": [
      "[[  1   2   3   4   5   6]\n",
      " [  7   8   0   0  11  12]\n",
      " [100 200   0   0  17  18]]\n"
     ]
    }
   ],
   "source": [
    "replace = np.zeros(4).reshape(2, 2)\n",
    "\n",
    "slice_array[1:3,2:4] = replace\n",
    "print(slice_array)"
   ]
  },
  {
   "cell_type": "code",
   "execution_count": 52,
   "id": "e15c6c0c",
   "metadata": {},
   "outputs": [
    {
     "name": "stdout",
     "output_type": "stream",
     "text": [
      "vertical stacking : \n",
      " [[1 2]\n",
      " [3 4]\n",
      " [5 6]\n",
      " [6 7]]\n",
      "\n",
      "horizontal stacking : \n",
      " [[1 2 5 6]\n",
      " [3 4 6 7]]\n"
     ]
    }
   ],
   "source": [
    "a = np.array([[1, 2], [3, 4]])\n",
    "b = np.array([[5, 6], [6, 7]])\n",
    "\n",
    "print(\"vertical stacking : \\n\", np.vstack((a, b))) # Use .vstack for vertical stacking\n",
    "print(\"\\nhorizontal stacking : \\n\", np.hstack((a, b))) # Use .hstack for horizontal stacking"
   ]
  },
  {
   "cell_type": "code",
   "execution_count": 53,
   "id": "80ac9ab4",
   "metadata": {},
   "outputs": [
    {
     "name": "stdout",
     "output_type": "stream",
     "text": [
      "[[1 2]\n",
      " [3 4]\n",
      " [5 6]\n",
      " [7 8]]\n"
     ]
    }
   ],
   "source": [
    "# Use insert if you want to insert a element into a specific place.\n",
    "\n",
    "insert_array = np.array([[1, 2], [3, 4], [7, 8]])\n",
    "missing_element = np.array([5, 6])\n",
    "\n",
    "print(np.insert(insert_array, 2, missing_element, axis = 0)) #insert missing_element into insert_array at index 2 and axis = 0."
   ]
  },
  {
   "cell_type": "code",
   "execution_count": 54,
   "id": "174a6fa7",
   "metadata": {},
   "outputs": [
    {
     "name": "stdout",
     "output_type": "stream",
     "text": [
      "[4, 5, 6]\n"
     ]
    }
   ],
   "source": [
    "#Q1 Print the middle three values of the following array\n",
    "arr = [1, 2, 3, 4, 5 ,6, 7 ,8, 9]\n",
    "print(arr[3:6])"
   ]
  },
  {
   "cell_type": "code",
   "execution_count": 56,
   "id": "1bbaf97c",
   "metadata": {},
   "outputs": [
    {
     "name": "stdout",
     "output_type": "stream",
     "text": [
      "[400]\n"
     ]
    }
   ],
   "source": [
    "#Q2 What is the sum of the third row in the following array?\n",
    "sum_array = np.array([[10, 15, 20, 25, 30], [40, 45, 50, 55, 60], [70, 75, 80, 85, 90], [100, 105, 110, 115, 120]])\n",
    "print(sum_array[2:3].sum(axis =1))"
   ]
  },
  {
   "cell_type": "code",
   "execution_count": 68,
   "id": "873170f4",
   "metadata": {},
   "outputs": [
    {
     "name": "stdout",
     "output_type": "stream",
     "text": [
      "[[1. 1. 1. 1. 1.]\n",
      " [1. 0. 0. 0. 1.]\n",
      " [1. 0. 9. 0. 1.]\n",
      " [1. 0. 0. 0. 1.]\n",
      " [1. 1. 1. 1. 1.]]\n"
     ]
    }
   ],
   "source": [
    "a = np.ones(25).reshape(5,5)\n",
    "b  = np.zeros(9).reshape(3,3)\n",
    "b[1,1:2] = 9\n",
    "a[1:4,1:4] = b\n",
    "print(a)"
   ]
  },
  {
   "cell_type": "code",
   "execution_count": 76,
   "id": "36eee6b2",
   "metadata": {},
   "outputs": [
    {
     "name": "stdout",
     "output_type": "stream",
     "text": [
      "[[3 1 6 5 7 8 4 9 2]\n",
      " [5 2 9 1 3 4 7 6 8]\n",
      " [4 8 7 6 2 9 5 3 1]\n",
      " [2 6 3 4 1 5 9 8 7]\n",
      " [9 7 4 8 6 3 1 2 5]\n",
      " [8 5 1 7 9 2 6 4 3]\n",
      " [1 3 8 9 4 7 2 5 6]\n",
      " [6 9 2 3 5 1 8 7 4]\n",
      " [7 4 5 2 8 6 3 1 9]]\n"
     ]
    }
   ],
   "source": [
    "unfinished_sudoku = np.array([[3, 1, 6, 5, 7, 8, 4, 9, 2], \n",
    "[5, 2, 9, 1, 3, 4, 7, 6, 8], \n",
    "[4, 8, 7, 6, 2, 9, 5, 3, 1], \n",
    "[2, 6, 3, 4, 1, 5, 9, 8, 7], \n",
    "[8, 5, 1, 7, 9, 2, 6, 4, 3], \n",
    "[1, 3, 8, 9, 4, 7, 2, 5, 6], \n",
    "[6, 9, 2, 3, 5, 1, 8, 7, 4],\n",
    "[7, 4, 5, 2, 8, 6, 3, 1, 9]])\n",
    "\n",
    "missing_row = [9, 7, 4, 8, 6, 3, 1, 2, 5]\n",
    "unfinished_sudoku = np.insert(unfinished_sudoku, 4, missing_row, axis = 0)\n",
    "print(unfinished_sudoku)"
   ]
  },
  {
   "cell_type": "code",
   "execution_count": null,
   "id": "6bddc89a",
   "metadata": {},
   "outputs": [],
   "source": []
  }
 ],
 "metadata": {
  "kernelspec": {
   "display_name": "Python 3 (ipykernel)",
   "language": "python",
   "name": "python3"
  },
  "language_info": {
   "codemirror_mode": {
    "name": "ipython",
    "version": 3
   },
   "file_extension": ".py",
   "mimetype": "text/x-python",
   "name": "python",
   "nbconvert_exporter": "python",
   "pygments_lexer": "ipython3",
   "version": "3.11.4"
  }
 },
 "nbformat": 4,
 "nbformat_minor": 5
}
