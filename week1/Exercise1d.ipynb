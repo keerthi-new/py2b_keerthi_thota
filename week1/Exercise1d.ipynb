{
 "cells": [
  {
   "cell_type": "code",
   "execution_count": 2,
   "id": "7b889921",
   "metadata": {
    "scrolled": true
   },
   "outputs": [
    {
     "name": "stdout",
     "output_type": "stream",
     "text": [
      "Hello world\n"
     ]
    }
   ],
   "source": [
    "print(\"Hello world\")"
   ]
  },
  {
   "cell_type": "code",
   "execution_count": 3,
   "id": "aa1e6d7d",
   "metadata": {},
   "outputs": [],
   "source": [
    "ingredients = [\"flour\", \"egg\", \"sugar\", \"milk\", \"salt\", \"water\", \"beef\", \"chicken\", \"peppers\", \"mushroom\", \"corn\", \"kebab\", \"rice\", \"beans\", \"peas\", \"turkey\", \"potato\", \"spinach\", \"mashed potatoes\", \"noodles\", \"ketchup\", \"almonds\", \"coconut\", \"beets\", \"strawberry\", \"apple\", \"shrimp\", \"garlic\", \"cheese\", \"onion\"]"
   ]
  },
  {
   "cell_type": "code",
   "execution_count": 42,
   "id": "24fcb3fe",
   "metadata": {},
   "outputs": [],
   "source": [
    "meal = ingredients[0:15]"
   ]
  },
  {
   "cell_type": "code",
   "execution_count": 47,
   "id": "4049e77a",
   "metadata": {},
   "outputs": [],
   "source": [
    "def main():\n",
    "    meal_name = \"cake\"\n",
    "    print(meal_name)\n",
    "    looper(meal)\n",
    "    pass"
   ]
  },
  {
   "cell_type": "code",
   "execution_count": 44,
   "id": "b53fe9c4",
   "metadata": {},
   "outputs": [],
   "source": [
    "def looper(meal):\n",
    "    for i in meal:\n",
    "        print(i)\n",
    "    Print_list(meal)\n",
    "    pass"
   ]
  },
  {
   "cell_type": "code",
   "execution_count": 45,
   "id": "a8d3c311",
   "metadata": {},
   "outputs": [],
   "source": [
    "def Print_list(meal):\n",
    "    print(meal)\n",
    "    pass"
   ]
  },
  {
   "cell_type": "code",
   "execution_count": 48,
   "id": "8f5aea48",
   "metadata": {},
   "outputs": [
    {
     "name": "stdout",
     "output_type": "stream",
     "text": [
      "cake\n",
      "flour\n",
      "egg\n",
      "sugar\n",
      "milk\n",
      "salt\n",
      "water\n",
      "beef\n",
      "chicken\n",
      "peppers\n",
      "mushroom\n",
      "corn\n",
      "kebab\n",
      "rice\n",
      "beans\n",
      "peas\n",
      "['flour', 'egg', 'sugar', 'milk', 'salt', 'water', 'beef', 'chicken', 'peppers', 'mushroom', 'corn', 'kebab', 'rice', 'beans', 'peas']\n"
     ]
    }
   ],
   "source": [
    "main()"
   ]
  },
  {
   "cell_type": "code",
   "execution_count": null,
   "id": "8a5a1bbc",
   "metadata": {},
   "outputs": [],
   "source": []
  }
 ],
 "metadata": {
  "kernelspec": {
   "display_name": "Python 3 (ipykernel)",
   "language": "python",
   "name": "python3"
  },
  "language_info": {
   "codemirror_mode": {
    "name": "ipython",
    "version": 3
   },
   "file_extension": ".py",
   "mimetype": "text/x-python",
   "name": "python",
   "nbconvert_exporter": "python",
   "pygments_lexer": "ipython3",
   "version": "3.11.4"
  }
 },
 "nbformat": 4,
 "nbformat_minor": 5
}
